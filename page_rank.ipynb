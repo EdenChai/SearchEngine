{
  "cells": [
    {
      "cell_type": "markdown",
      "metadata": {
        "id": "hWgiQS0zkWJ5"
      },
      "source": [
        "***Important*** DO NOT CLEAR THE OUTPUT OF THIS NOTEBOOK AFTER EXECUTION!!!"
      ],
      "id": "hWgiQS0zkWJ5"
    },
    {
      "cell_type": "code",
      "execution_count": null,
      "metadata": {
        "id": "c0ccf76b",
        "nbgrader": {
          "grade": false,
          "grade_id": "cell-Worker_Count",
          "locked": true,
          "schema_version": 3,
          "solution": false,
          "task": false
        },
        "outputId": "cf88b954-f39a-412a-d87e-660833e735b6"
      },
      "outputs": [
        {
          "name": "stdout",
          "output_type": "stream",
          "text": [
            "NAME          PLATFORM  WORKER_COUNT  PREEMPTIBLE_WORKER_COUNT  STATUS   ZONE           SCHEDULED_DELETE\r\n",
            "cluster-104f  GCE       2                                       RUNNING  us-central1-c\r\n"
          ]
        }
      ],
      "source": [
        "# if the following command generates an error, you probably didn't enable \n",
        "# the cluster security option \"Allow API access to all Google Cloud services\"\n",
        "# under Manage Security → Project Access when setting up the cluster\n",
        "!gcloud dataproc clusters list --region us-central1"
      ],
      "id": "c0ccf76b"
    },
    {
      "cell_type": "markdown",
      "metadata": {
        "id": "01ec9fd3"
      },
      "source": [
        "# Imports & Setup"
      ],
      "id": "01ec9fd3"
    },
    {
      "cell_type": "code",
      "execution_count": null,
      "metadata": {
        "id": "32b3ec57",
        "nbgrader": {
          "grade": false,
          "grade_id": "cell-Setup",
          "locked": true,
          "schema_version": 3,
          "solution": false,
          "task": false
        },
        "outputId": "fc0e315d-21e9-411d-d69c-5b97e4e5d629"
      },
      "outputs": [
        {
          "name": "stdout",
          "output_type": "stream",
          "text": [
            "\u001b[33mWARNING: Running pip as the 'root' user can result in broken permissions and conflicting behaviour with the system package manager. It is recommended to use a virtual environment instead: https://pip.pypa.io/warnings/venv\u001b[0m\n",
            "\u001b[33mWARNING: Running pip as the 'root' user can result in broken permissions and conflicting behaviour with the system package manager. It is recommended to use a virtual environment instead: https://pip.pypa.io/warnings/venv\u001b[0m\n"
          ]
        }
      ],
      "source": [
        "!pip install -q google-cloud-storage==1.43.0\n",
        "!pip install -q graphframes"
      ],
      "id": "32b3ec57"
    },
    {
      "cell_type": "code",
      "execution_count": null,
      "metadata": {
        "id": "5609143b",
        "nbgrader": {
          "grade": false,
          "grade_id": "cell-Imports",
          "locked": true,
          "schema_version": 3,
          "solution": false,
          "task": false
        }
      },
      "outputs": [],
      "source": [
        "import pyspark\n",
        "import sys\n",
        "from collections import Counter, OrderedDict, defaultdict\n",
        "import itertools\n",
        "from itertools import islice, count, groupby\n",
        "import pandas as pd\n",
        "import math\n",
        "import os\n",
        "import re\n",
        "from operator import itemgetter\n",
        "import nltk\n",
        "from nltk.stem.porter import *\n",
        "from nltk.corpus import stopwords\n",
        "from time import time\n",
        "from pathlib import Path\n",
        "import pickle\n",
        "import pandas as pd\n",
        "from google.cloud import storage\n",
        "\n",
        "import hashlib\n",
        "def _hash(s):\n",
        "    return hashlib.blake2b(bytes(s, encoding='utf8'), digest_size=5).hexdigest()\n",
        "\n",
        "nltk.download('stopwords')"
      ],
      "id": "5609143b"
    },
    {
      "cell_type": "code",
      "execution_count": null,
      "metadata": {
        "id": "b10cc999",
        "nbgrader": {
          "grade": false,
          "grade_id": "cell-jar",
          "locked": true,
          "schema_version": 3,
          "solution": false,
          "task": false
        }
      },
      "outputs": [],
      "source": [
        "# if nothing prints here you forgot to include the initialization script when starting the cluster\n",
        "!ls -l /usr/lib/spark/jars/graph*"
      ],
      "id": "b10cc999"
    },
    {
      "cell_type": "code",
      "execution_count": null,
      "metadata": {
        "id": "d3f86f11",
        "nbgrader": {
          "grade": false,
          "grade_id": "cell-pyspark-import",
          "locked": true,
          "schema_version": 3,
          "solution": false,
          "task": false
        }
      },
      "outputs": [],
      "source": [
        "from pyspark.sql import *\n",
        "from pyspark.sql.functions import *\n",
        "from pyspark import SparkContext, SparkConf, SparkFiles\n",
        "from pyspark.sql import SQLContext\n",
        "from graphframes import *"
      ],
      "id": "d3f86f11"
    },
    {
      "cell_type": "code",
      "execution_count": null,
      "metadata": {
        "id": "5be6dc2a",
        "nbgrader": {
          "grade": false,
          "grade_id": "cell-spark-version",
          "locked": true,
          "schema_version": 3,
          "solution": false,
          "task": false
        },
        "scrolled": true
      },
      "outputs": [],
      "source": [
        "spark"
      ],
      "id": "5be6dc2a"
    },
    {
      "cell_type": "code",
      "execution_count": null,
      "metadata": {
        "id": "7adc1bf5",
        "nbgrader": {
          "grade": false,
          "grade_id": "cell-bucket_name",
          "locked": false,
          "schema_version": 3,
          "solution": true,
          "task": false
        }
      },
      "outputs": [],
      "source": [
        "# Put your bucket name below and make sure you can access it without an error\n",
        "bucket_name = 'search_engine_bucket' \n",
        "client = storage.Client()\n",
        "blobs = client.list_blobs(bucket_name)\n",
        "for b in blobs:\n",
        "    print(b.name)"
      ],
      "id": "7adc1bf5"
    },
    {
      "cell_type": "markdown",
      "metadata": {
        "id": "13ZX4ervQkku"
      },
      "source": [
        "***GCP setup is complete!*** If you got here without any errors you've earned 10 out of the 35 points of this part."
      ],
      "id": "13ZX4ervQkku"
    },
    {
      "cell_type": "markdown",
      "metadata": {
        "id": "fc0667a9",
        "nbgrader": {
          "grade": false,
          "grade_id": "cell-2a6d655c112e79c5",
          "locked": true,
          "schema_version": 3,
          "solution": false,
          "task": false
        }
      },
      "source": [
        "# PageRank"
      ],
      "id": "fc0667a9"
    },
    {
      "cell_type": "markdown",
      "metadata": {
        "id": "fdd1bdca",
        "nbgrader": {
          "grade": false,
          "grade_id": "cell-2fee4bc8d83c1e2a",
          "locked": true,
          "schema_version": 3,
          "solution": false,
          "task": false
        }
      },
      "source": [
        "**YOUR TASK (10 POINTS):** Compute PageRank for the entire English Wikipedia. Use your implementation for `generate_graph` function from Colab below."
      ],
      "id": "fdd1bdca"
    },
    {
      "cell_type": "code",
      "execution_count": null,
      "metadata": {
        "id": "yVjnTvQsegc-"
      },
      "outputs": [],
      "source": [
        "# Put your `generate_graph` function here\n",
        "def generate_graph(pages):\n",
        "  edges = pages.flatMapValues(lambda x: x).map(lambda x: (x[0], x[1][0])).distinct()\n",
        "  vertices = edges.flatMap(lambda x: x).distinct().map(lambda x: (x,))\n",
        "  return edges, vertices"
      ],
      "id": "yVjnTvQsegc-"
    },
    {
      "cell_type": "code",
      "execution_count": null,
      "metadata": {
        "id": "db005700",
        "nbgrader": {
          "grade": false,
          "grade_id": "cell-PageRank",
          "locked": false,
          "schema_version": 3,
          "solution": true,
          "task": false
        }
      },
      "outputs": [],
      "source": [
        "t_start = time()\n",
        "\n",
        "pages_links = spark.read.parquet(\"gs://wikidata_preprocessed/*\").select(\"id\", \"anchor_text\").rdd\n",
        "\n",
        "# construct the graph \n",
        "edges, vertices = generate_graph(pages_links)\n",
        "\n",
        "# compute PageRank\n",
        "edgesDF = edges.toDF(['src', 'dst']).repartition(124, 'src')\n",
        "verticesDF = vertices.toDF(['id']).repartition(124, 'id')\n",
        "\n",
        "g = GraphFrame(verticesDF, edgesDF)\n",
        "pr_results = g.pageRank(resetProbability=0.15, maxIter=6)\n",
        "pr = pr_results.vertices.select(\"id\", \"pagerank\")\n",
        "pr = pr.sort(col('pagerank').desc())\n",
        "pr.repartition(1).write.csv(f'gs://{bucket_name}/pagerank', compression=\"gzip\")\n",
        "pr.show()\n",
        "\n",
        "pr_time = time() - t_start"
      ],
      "id": "db005700"
    },
    {
      "cell_type": "code",
      "execution_count": null,
      "metadata": {
        "id": "2cc36ca9",
        "nbgrader": {
          "grade": true,
          "grade_id": "cell-PageRank_time",
          "locked": true,
          "points": 10,
          "schema_version": 3,
          "solution": false,
          "task": false
        }
      },
      "outputs": [],
      "source": [
        "# test that PageRank computaion took less than 1 hour\n",
        "pr_time"
      ],
      "id": "2cc36ca9"
    }
  ],
  "metadata": {
    "celltoolbar": "Create Assignment",
    "colab": {
      "collapsed_sections": [],
      "name": "page_rank_gcp.ipynb",
      "provenance": []
    },
    "kernelspec": {
      "display_name": "Python 3",
      "language": "python",
      "name": "python3"
    },
    "language_info": {
      "codemirror_mode": {
        "name": "ipython",
        "version": 3
      },
      "file_extension": ".py",
      "mimetype": "text/x-python",
      "name": "python",
      "nbconvert_exporter": "python",
      "pygments_lexer": "ipython3",
      "version": "3.7.6"
    }
  },
  "nbformat": 4,
  "nbformat_minor": 5
}