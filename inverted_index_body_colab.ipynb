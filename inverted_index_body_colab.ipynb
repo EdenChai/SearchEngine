{
  "nbformat": 4,
  "nbformat_minor": 0,
  "metadata": {
    "colab": {
      "name": "inverted_index_body_colab.ipynb",
      "provenance": [],
      "collapsed_sections": []
    },
    "kernelspec": {
      "display_name": "Python 3",
      "language": "python",
      "name": "python3"
    },
    "language_info": {
      "codemirror_mode": {
        "name": "ipython",
        "version": 3
      },
      "file_extension": ".py",
      "mimetype": "text/x-python",
      "name": "python",
      "nbconvert_exporter": "python",
      "pygments_lexer": "ipython3",
      "version": "3.7.6"
    }
  },
  "cells": [
    {
      "cell_type": "markdown",
      "metadata": {
        "id": "ByCSu-FhG5v7"
      },
      "source": [
        "# **Body Inverted Index Creation**\n",
        "*Based on Assignment 3*"
      ]
    },
    {
      "cell_type": "markdown",
      "metadata": {
        "id": "59yMYAN1x3oh"
      },
      "source": [
        "# Setup\n"
      ]
    },
    {
      "cell_type": "markdown",
      "source": [
        "## General imports"
      ],
      "metadata": {
        "id": "K9h0F8tqUn9q"
      }
    },
    {
      "cell_type": "markdown",
      "source": [
        "The `inverted_index_anchor_text_colab` import requires the `inverted_index_anchor_colab.py` file.\n",
        "\n",
        "You should upload the file and then run this cell."
      ],
      "metadata": {
        "id": "y5yKWQYcUs5K"
      }
    },
    {
      "cell_type": "code",
      "metadata": {
        "deletable": false,
        "editable": false,
        "id": "byNgReCYsmA9",
        "nbgrader": {
          "cell_type": "code",
          "checksum": "9a5e34081c68da39370c09ff0ee046f0",
          "grade": false,
          "grade_id": "cell-4bab9532110cc7e3",
          "locked": true,
          "schema_version": 3,
          "solution": false,
          "task": false
        },
        "colab": {
          "base_uri": "https://localhost:8080/"
        },
        "outputId": "fece9935-2394-4de2-f2a7-1666b2f2dcc8"
      },
      "source": [
        "import sys\n",
        "from collections import Counter, OrderedDict\n",
        "import itertools\n",
        "from itertools import islice, count, groupby\n",
        "import pandas as pd\n",
        "import math\n",
        "import os\n",
        "import re\n",
        "from operator import itemgetter\n",
        "import nltk\n",
        "from nltk.stem.porter import *\n",
        "from nltk.corpus import stopwords\n",
        "from time import time\n",
        "from timeit import timeit\n",
        "from pathlib import Path\n",
        "import pickle\n",
        "import pandas as pd\n",
        "import numpy as np\n",
        "from google.cloud import storage\n",
        "\n",
        "import hashlib\n",
        "def _hash(s):\n",
        "    return hashlib.blake2b(bytes(s, encoding='utf8'), digest_size=5).hexdigest()\n",
        "\n",
        "nltk.download('stopwords')\n",
        "\n",
        "from inverted_index_body_colab import *"
      ],
      "execution_count": null,
      "outputs": [
        {
          "output_type": "stream",
          "name": "stdout",
          "text": [
            "[nltk_data] Downloading package stopwords to /root/nltk_data...\n",
            "[nltk_data]   Package stopwords is already up-to-date!\n"
          ]
        }
      ]
    },
    {
      "cell_type": "markdown",
      "metadata": {
        "id": "KRjOVgLBrfCs"
      },
      "source": [
        "## Installing, importing, and initializing PySpark\n"
      ]
    },
    {
      "cell_type": "code",
      "metadata": {
        "deletable": false,
        "editable": false,
        "id": "kw33QgujFQez",
        "nbgrader": {
          "cell_type": "code",
          "checksum": "da733d0507fb7716a3f432b5d9d409a3",
          "grade": false,
          "grade_id": "cell-3f5100ba2d532176",
          "locked": true,
          "schema_version": 3,
          "solution": false,
          "task": false
        },
        "colab": {
          "base_uri": "https://localhost:8080/"
        },
        "outputId": "e086521e-16a5-483a-9fdb-f0139ec61fc0"
      },
      "source": [
        "# These will already be installed in the testing environment so disregard the \n",
        "# amount of time (~1 minute) it takes to install. \n",
        "!pip install -q pyspark\n",
        "!pip install -U -q PyDrive\n",
        "!apt-get update -qq\n",
        "!apt install openjdk-8-jdk-headless -qq\n",
        "!pip install -q graphframes\n",
        "\n",
        "import os\n",
        "os.environ[\"JAVA_HOME\"] = \"/usr/lib/jvm/java-8-openjdk-amd64\"\n",
        "graphframes_jar = 'https://repos.spark-packages.org/graphframes/graphframes/0.8.2-spark3.2-s_2.12/graphframes-0.8.2-spark3.2-s_2.12.jar'\n",
        "spark_jars = '/usr/local/lib/python3.7/dist-packages/pyspark/jars'\n",
        "!wget -N -P $spark_jars $graphframes_jar"
      ],
      "execution_count": null,
      "outputs": [
        {
          "output_type": "stream",
          "name": "stdout",
          "text": [
            "\u001b[K     |████████████████████████████████| 281.3 MB 38 kB/s \n",
            "\u001b[K     |████████████████████████████████| 198 kB 69.8 MB/s \n",
            "\u001b[?25h  Building wheel for pyspark (setup.py) ... \u001b[?25l\u001b[?25hdone\n",
            "The following additional packages will be installed:\n",
            "  openjdk-8-jre-headless\n",
            "Suggested packages:\n",
            "  openjdk-8-demo openjdk-8-source libnss-mdns fonts-dejavu-extra\n",
            "  fonts-ipafont-gothic fonts-ipafont-mincho fonts-wqy-microhei\n",
            "  fonts-wqy-zenhei fonts-indic\n",
            "The following NEW packages will be installed:\n",
            "  openjdk-8-jdk-headless openjdk-8-jre-headless\n",
            "0 upgraded, 2 newly installed, 0 to remove and 61 not upgraded.\n",
            "Need to get 36.5 MB of archives.\n",
            "After this operation, 143 MB of additional disk space will be used.\n",
            "Selecting previously unselected package openjdk-8-jre-headless:amd64.\n",
            "(Reading database ... 155225 files and directories currently installed.)\n",
            "Preparing to unpack .../openjdk-8-jre-headless_8u312-b07-0ubuntu1~18.04_amd64.deb ...\n",
            "Unpacking openjdk-8-jre-headless:amd64 (8u312-b07-0ubuntu1~18.04) ...\n",
            "Selecting previously unselected package openjdk-8-jdk-headless:amd64.\n",
            "Preparing to unpack .../openjdk-8-jdk-headless_8u312-b07-0ubuntu1~18.04_amd64.deb ...\n",
            "Unpacking openjdk-8-jdk-headless:amd64 (8u312-b07-0ubuntu1~18.04) ...\n",
            "Setting up openjdk-8-jre-headless:amd64 (8u312-b07-0ubuntu1~18.04) ...\n",
            "update-alternatives: using /usr/lib/jvm/java-8-openjdk-amd64/jre/bin/orbd to provide /usr/bin/orbd (orbd) in auto mode\n",
            "update-alternatives: using /usr/lib/jvm/java-8-openjdk-amd64/jre/bin/servertool to provide /usr/bin/servertool (servertool) in auto mode\n",
            "update-alternatives: using /usr/lib/jvm/java-8-openjdk-amd64/jre/bin/tnameserv to provide /usr/bin/tnameserv (tnameserv) in auto mode\n",
            "Setting up openjdk-8-jdk-headless:amd64 (8u312-b07-0ubuntu1~18.04) ...\n",
            "update-alternatives: using /usr/lib/jvm/java-8-openjdk-amd64/bin/idlj to provide /usr/bin/idlj (idlj) in auto mode\n",
            "update-alternatives: using /usr/lib/jvm/java-8-openjdk-amd64/bin/wsimport to provide /usr/bin/wsimport (wsimport) in auto mode\n",
            "update-alternatives: using /usr/lib/jvm/java-8-openjdk-amd64/bin/jsadebugd to provide /usr/bin/jsadebugd (jsadebugd) in auto mode\n",
            "update-alternatives: using /usr/lib/jvm/java-8-openjdk-amd64/bin/native2ascii to provide /usr/bin/native2ascii (native2ascii) in auto mode\n",
            "update-alternatives: using /usr/lib/jvm/java-8-openjdk-amd64/bin/javah to provide /usr/bin/javah (javah) in auto mode\n",
            "update-alternatives: using /usr/lib/jvm/java-8-openjdk-amd64/bin/hsdb to provide /usr/bin/hsdb (hsdb) in auto mode\n",
            "update-alternatives: using /usr/lib/jvm/java-8-openjdk-amd64/bin/clhsdb to provide /usr/bin/clhsdb (clhsdb) in auto mode\n",
            "update-alternatives: using /usr/lib/jvm/java-8-openjdk-amd64/bin/xjc to provide /usr/bin/xjc (xjc) in auto mode\n",
            "update-alternatives: using /usr/lib/jvm/java-8-openjdk-amd64/bin/schemagen to provide /usr/bin/schemagen (schemagen) in auto mode\n",
            "update-alternatives: using /usr/lib/jvm/java-8-openjdk-amd64/bin/extcheck to provide /usr/bin/extcheck (extcheck) in auto mode\n",
            "update-alternatives: using /usr/lib/jvm/java-8-openjdk-amd64/bin/jhat to provide /usr/bin/jhat (jhat) in auto mode\n",
            "update-alternatives: using /usr/lib/jvm/java-8-openjdk-amd64/bin/wsgen to provide /usr/bin/wsgen (wsgen) in auto mode\n",
            "\u001b[K     |████████████████████████████████| 154 kB 7.0 MB/s \n",
            "\u001b[?25h--2022-01-09 07:22:36--  https://repos.spark-packages.org/graphframes/graphframes/0.8.2-spark3.2-s_2.12/graphframes-0.8.2-spark3.2-s_2.12.jar\n",
            "Resolving repos.spark-packages.org (repos.spark-packages.org)... 13.35.101.96, 13.35.101.120, 13.35.101.23, ...\n",
            "Connecting to repos.spark-packages.org (repos.spark-packages.org)|13.35.101.96|:443... connected.\n",
            "HTTP request sent, awaiting response... 200 OK\n",
            "Length: 247880 (242K) [binary/octet-stream]\n",
            "Saving to: ‘/usr/local/lib/python3.7/dist-packages/pyspark/jars/graphframes-0.8.2-spark3.2-s_2.12.jar’\n",
            "\n",
            "graphframes-0.8.2-s 100%[===================>] 242.07K  --.-KB/s    in 0.04s   \n",
            "\n",
            "2022-01-09 07:22:36 (6.38 MB/s) - ‘/usr/local/lib/python3.7/dist-packages/pyspark/jars/graphframes-0.8.2-spark3.2-s_2.12.jar’ saved [247880/247880]\n",
            "\n"
          ]
        }
      ]
    },
    {
      "cell_type": "code",
      "metadata": {
        "deletable": false,
        "editable": false,
        "id": "BkEErqJnsXyy",
        "nbgrader": {
          "cell_type": "code",
          "checksum": "032f9e425c679e50c3f5c4ea0c8c1a0d",
          "grade": false,
          "grade_id": "cell-eb29d235a981ccf1",
          "locked": true,
          "schema_version": 3,
          "solution": false,
          "task": false
        }
      },
      "source": [
        "import pyspark\n",
        "from pyspark.sql import *\n",
        "from pyspark.sql.functions import *\n",
        "from pyspark import SparkContext, SparkConf\n",
        "from pyspark.sql import SQLContext\n",
        "from pyspark.ml.feature import Tokenizer, RegexTokenizer\n",
        "from graphframes import *"
      ],
      "execution_count": null,
      "outputs": []
    },
    {
      "cell_type": "code",
      "metadata": {
        "deletable": false,
        "editable": false,
        "id": "OgiSewKAsgKd",
        "nbgrader": {
          "cell_type": "code",
          "checksum": "a5af00dff69d4112e18699486f128230",
          "grade": false,
          "grade_id": "cell-3abe6255693138cc",
          "locked": true,
          "schema_version": 3,
          "solution": false,
          "task": false
        }
      },
      "source": [
        "# Initializing spark context\n",
        "# create a spark context and session\n",
        "conf = SparkConf().set(\"spark.ui.port\", \"4050\")\n",
        "sc = pyspark.SparkContext(conf=conf)\n",
        "sc.addPyFile(str(Path(spark_jars) / Path(graphframes_jar).name))\n",
        "spark = SparkSession.builder.getOrCreate()"
      ],
      "execution_count": null,
      "outputs": []
    },
    {
      "cell_type": "markdown",
      "metadata": {
        "id": "19EG5AvVru1J"
      },
      "source": [
        "## Copy some wiki data"
      ]
    },
    {
      "cell_type": "code",
      "metadata": {
        "deletable": false,
        "editable": false,
        "id": "DkdjBm5DOVWX",
        "nbgrader": {
          "cell_type": "code",
          "checksum": "0b138c8dd737320e8f709a125f6862f9",
          "grade": false,
          "grade_id": "cell-e21b8fff61e90a95",
          "locked": true,
          "schema_version": 3,
          "solution": false,
          "task": false
        }
      },
      "source": [
        "# Authenticate your user\n",
        "# The authentication should be done with the email connected to your GCP account\n",
        "from google.colab import auth\n",
        "auth.authenticate_user()"
      ],
      "execution_count": null,
      "outputs": []
    },
    {
      "cell_type": "code",
      "metadata": {
        "deletable": false,
        "editable": false,
        "id": "vDuikxFbN9B7",
        "nbgrader": {
          "cell_type": "code",
          "checksum": "21fef1395f2be15f2a4cac7d41236bf3",
          "grade": false,
          "grade_id": "cell-e19184d540ed3d67",
          "locked": true,
          "schema_version": 3,
          "solution": false,
          "task": false
        },
        "colab": {
          "base_uri": "https://localhost:8080/"
        },
        "outputId": "f77a3a0d-3280-42df-99b1-d8a031dfc09d"
      },
      "source": [
        "# Copy one wikidumps files \n",
        "import os\n",
        "from pathlib import Path\n",
        "from google.colab import auth\n",
        "\n",
        "project_id = 'core-period-321814'\n",
        "!gcloud config set project {project_id}\n",
        "\n",
        "data_bucket_name = 'wikidata_preprocessed'\n",
        "try:\n",
        "    if os.environ[\"wikidata_preprocessed\"] is not None:\n",
        "        pass  \n",
        "except:\n",
        "      !mkdir wikidumps\n",
        "      !gsutil cp gs://{data_bucket_name}/multistream1_preprocessed.parquet \"wikidumps/\" "
      ],
      "execution_count": null,
      "outputs": [
        {
          "output_type": "stream",
          "name": "stdout",
          "text": [
            "Updated property [core/project].\n",
            "\u001b[1;33mWARNING:\u001b[0m You do not appear to have access to project [core-period-321814] or it does not exist.\n",
            "\n",
            "\n",
            "To take a quick anonymous survey, run:\n",
            "  $ gcloud survey\n",
            "\n",
            "Copying gs://wikidata_preprocessed/multistream1_preprocessed.parquet...\n",
            "| [1 files][316.7 MiB/316.7 MiB]                                                \n",
            "Operation completed over 1 objects/316.7 MiB.                                    \n"
          ]
        }
      ]
    },
    {
      "cell_type": "markdown",
      "metadata": {
        "id": "_GU4djg6yizh"
      },
      "source": [
        "# Processing wikipedia"
      ]
    },
    {
      "cell_type": "markdown",
      "metadata": {
        "id": "uF9ywiIC-sAX"
      },
      "source": [
        "Now that we completed the setup and have some data in our local environment, we are ready to process it using PySpark. "
      ]
    },
    {
      "cell_type": "markdown",
      "metadata": {
        "id": "tkEUicVTzDZd"
      },
      "source": [
        "## A 2-minute intro to PySpark"
      ]
    },
    {
      "cell_type": "markdown",
      "metadata": {
        "id": "5aQwbFGxPb4D"
      },
      "source": [
        "Let's look at our data before transforming it to RDD."
      ]
    },
    {
      "cell_type": "code",
      "metadata": {
        "deletable": false,
        "editable": false,
        "id": "24AI2jXgOuVN",
        "nbgrader": {
          "cell_type": "code",
          "checksum": "cf07662ebf5f21f0f3bb8d43ee5aa50f",
          "grade": false,
          "grade_id": "cell-b34211e3350164ca",
          "locked": true,
          "schema_version": 3,
          "solution": false,
          "task": false
        },
        "colab": {
          "base_uri": "https://localhost:8080/"
        },
        "outputId": "bd3d18e6-d57a-4c81-91a4-f7c9d996f661"
      },
      "source": [
        "from pathlib import Path \n",
        "import os\n",
        "\n",
        "try:\n",
        "    if os.environ[\"wikidata_preprocessed\"] is not None:\n",
        "      path = os.environ[\"wikidata_preprocessed\"]+\"/wikidumps/*\"\n",
        "except:\n",
        "      path = \"wikidumps/*\"\n",
        "\n",
        "parquetFile = spark.read.parquet(path)\n",
        "parquetFile.show()"
      ],
      "execution_count": null,
      "outputs": [
        {
          "output_type": "stream",
          "name": "stdout",
          "text": [
            "+---+--------------------+--------------------+--------------------+\n",
            "| id|               title|                text|         anchor_text|\n",
            "+---+--------------------+--------------------+--------------------+\n",
            "| 12|           Anarchism|'''Anarchism''' i...|[{23040, politica...|\n",
            "| 25|              Autism|'''Autism''' is a...|[{492271, Clinica...|\n",
            "| 39|              Albedo|thumb|upright=1.3...|[{679294, diffuse...|\n",
            "|290|                   A|'''A''', or '''a'...|[{290, See below}...|\n",
            "|303|             Alabama|'''Alabama''' () ...|[{351590, Yellowh...|\n",
            "|305|            Achilles|thumb|260px|Ancie...|[{1076007, potter...|\n",
            "|307|     Abraham Lincoln|'''Abraham Lincol...|[{1827174, Alexan...|\n",
            "|308|           Aristotle|'''Aristotle''' (...|[{1389981, bust},...|\n",
            "|309|An American in Paris|'''''An American ...|[{13066, George G...|\n",
            "|316|Academy Award for...|The '''Academy Aw...|[{39842, Academy ...|\n",
            "|324|      Academy Awards|The '''Academy Aw...|[{649481, film in...|\n",
            "|330|             Actrius|'''''Actresses'''...|[{5282, Catalan},...|\n",
            "|332|     Animalia (book)|'''''Animalia''''...|[{2511084, Graeme...|\n",
            "|334|International Ato...|'''International ...|[{25453985, atomi...|\n",
            "|336|            Altruism|thumb|Giving alms...|[{657573, alms}, ...|\n",
            "|339|            Ayn Rand|'''Alice O'Connor...|[{24320051, St. P...|\n",
            "|340|        Alain Connes|'''Alain Connes''...|[{1201522, Dragui...|\n",
            "|344|          Allan Dwan|'''Allan Dwan''' ...|[{64646, Toronto}...|\n",
            "|358|             Algeria|'''Algeria''', of...|[{803, Arabic}, {...|\n",
            "|359|List of Atlas Shr...|This is a list of...|[{339, Ayn Rand},...|\n",
            "+---+--------------------+--------------------+--------------------+\n",
            "only showing top 20 rows\n",
            "\n"
          ]
        }
      ]
    },
    {
      "cell_type": "code",
      "metadata": {
        "deletable": false,
        "editable": false,
        "id": "KMcsrc8RO9kn",
        "nbgrader": {
          "cell_type": "code",
          "checksum": "9f6dbcc85fde698083cc613e0cc1aaef",
          "grade": false,
          "grade_id": "cell-59e4fe49688570ce",
          "locked": true,
          "schema_version": 3,
          "solution": false,
          "task": false
        }
      },
      "source": [
        "# take the 'anchor_text' and 'id' or the first 1000 rows and create an RDD from it\n",
        "doc_text_pairs = parquetFile.limit(1000).select(\"text\", \"id\").rdd\n",
        "doc_title_pairs = parquetFile.limit(1000).select(\"id\", \"title\").rdd"
      ],
      "execution_count": null,
      "outputs": []
    },
    {
      "cell_type": "markdown",
      "metadata": {
        "id": "__g69rcETm4w"
      },
      "source": [
        "## Word counts"
      ]
    },
    {
      "cell_type": "markdown",
      "source": [
        "### Tokenization"
      ],
      "metadata": {
        "id": "2i0ejaxQPDFj"
      }
    },
    {
      "cell_type": "code",
      "source": [
        "import pickle\n",
        "english_stopwords = frozenset(stopwords.words('english'))\n",
        "corpus_stopwords = ['category', 'references', 'also', 'links', 'extenal', 'see', 'thumb']\n",
        "RE_WORD = re.compile(r\"\"\"[\\#\\@\\w](['\\-]?\\w){2,24}\"\"\", re.UNICODE)\n",
        "all_stopwords = english_stopwords.union(corpus_stopwords)"
      ],
      "metadata": {
        "id": "ydFtWFBJPHyf"
      },
      "execution_count": null,
      "outputs": []
    },
    {
      "cell_type": "markdown",
      "metadata": {
        "id": "-zUibXvjWb6Q"
      },
      "source": [
        "### Term frequency"
      ]
    },
    {
      "cell_type": "code",
      "metadata": {
        "deletable": false,
        "id": "9GmPedzexLyt",
        "nbgrader": {
          "cell_type": "code",
          "checksum": "27318e0e7bdcd4384f38fbce1f52996a",
          "grade": false,
          "grade_id": "cell-6b21d53c0afef4f6",
          "locked": false,
          "schema_version": 3,
          "solution": true,
          "task": false
        }
      },
      "source": [
        "def word_count(text, id):\n",
        "  tokens = [token.group() for token in RE_WORD.finditer(text.lower())]\n",
        "  filtered_tokens = [tok for tok in tokens if tok not in all_stopwords]\n",
        "  count = Counter(filtered_tokens)\n",
        "  return [(k,(id,v)) for k,v in count.items()]"
      ],
      "execution_count": null,
      "outputs": []
    },
    {
      "cell_type": "code",
      "source": [
        "word_counts_body = doc_text_pairs.flatMap(lambda x: word_count(x[0], x[1]))"
      ],
      "metadata": {
        "id": "K1P0KMhoOrhr"
      },
      "execution_count": null,
      "outputs": []
    },
    {
      "cell_type": "markdown",
      "source": [
        "### Reduce word counts"
      ],
      "metadata": {
        "id": "Gk2oHKy2MuEk"
      }
    },
    {
      "cell_type": "code",
      "metadata": {
        "deletable": false,
        "id": "1yFhHQBZHIBb",
        "nbgrader": {
          "cell_type": "code",
          "checksum": "b8b3d536f304b848874fd48edd59268c",
          "grade": false,
          "grade_id": "cell-78a1517e2ac6a914",
          "locked": false,
          "schema_version": 3,
          "solution": true,
          "task": false
        }
      },
      "source": [
        "def reduce_word_counts(unsorted_pl):\n",
        "  return sorted(unsorted_pl)"
      ],
      "execution_count": null,
      "outputs": []
    },
    {
      "cell_type": "code",
      "source": [
        "postings_body = word_counts_body.groupByKey().mapValues(reduce_word_counts)"
      ],
      "metadata": {
        "id": "2CtlVtPZeOmZ"
      },
      "execution_count": null,
      "outputs": []
    },
    {
      "cell_type": "markdown",
      "source": [
        "### Document frequency"
      ],
      "metadata": {
        "id": "WuXQKWRzNOf5"
      }
    },
    {
      "cell_type": "code",
      "metadata": {
        "deletable": false,
        "id": "J_-UoG2CGj4o",
        "nbgrader": {
          "cell_type": "code",
          "checksum": "795721521242afd06958773d307bc60a",
          "grade": false,
          "grade_id": "cell-6c7774baf403e8e7",
          "locked": false,
          "schema_version": 3,
          "solution": true,
          "task": false
        }
      },
      "source": [
        "def calculate_df(postings):\n",
        "  return postings.mapValues(lambda x: len(x))"
      ],
      "execution_count": null,
      "outputs": []
    },
    {
      "cell_type": "code",
      "source": [
        "# create a df dictionary {w: df, ...}\n",
        "postings_body_filtered = postings_body.filter(lambda x: len(x[1]) > 50)\n",
        "df_dictionary = calculate_df(postings_body_filtered).collectAsMap()"
      ],
      "metadata": {
        "id": "GGsNAyYjQEnn"
      },
      "execution_count": null,
      "outputs": []
    },
    {
      "cell_type": "markdown",
      "source": [
        "### Document title"
      ],
      "metadata": {
        "id": "u-US1ru2YRpR"
      }
    },
    {
      "cell_type": "code",
      "source": [
        "def doc_title_mapping_creator(id, title):\n",
        "  return [(id,title)]"
      ],
      "metadata": {
        "id": "XN6CVI7jYZxq"
      },
      "execution_count": null,
      "outputs": []
    },
    {
      "cell_type": "code",
      "source": [
        "# create docID - title dictionary\n",
        "doc_title_dicionary = doc_title_pairs.flatMap(lambda x: doc_title_mapping_creator(x.id, x.title)).collectAsMap()"
      ],
      "metadata": {
        "id": "QGj52gwEYbCp"
      },
      "execution_count": null,
      "outputs": []
    },
    {
      "cell_type": "markdown",
      "source": [
        "### Document length"
      ],
      "metadata": {
        "id": "HtAB5Zsfp3mn"
      }
    },
    {
      "cell_type": "code",
      "source": [
        "def doc_to_len_mapping_creator(text, id):\n",
        "  tokens = [token.group() for token in RE_WORD.finditer(text.lower())]\n",
        "  filtered_tokens = [tok for tok in tokens if tok not in all_stopwords]\n",
        "  return [(id, len(filtered_tokens))]"
      ],
      "metadata": {
        "id": "j_232sNfp3DH"
      },
      "execution_count": null,
      "outputs": []
    },
    {
      "cell_type": "code",
      "source": [
        "doc_to_len_dictionary = doc_text_pairs.flatMap(lambda x: doc_to_len_mapping_creator(x[0], x[1])).collectAsMap()"
      ],
      "metadata": {
        "id": "I-mcf39jqRXM"
      },
      "execution_count": null,
      "outputs": []
    },
    {
      "cell_type": "markdown",
      "source": [
        "## IDF"
      ],
      "metadata": {
        "id": "KaTb8yffqWVC"
      }
    },
    {
      "cell_type": "code",
      "source": [
        "def calculate_idf(postings):\n",
        "  N = doc_text_pairs.count()\n",
        "  pairs = postings.map(lambda x: (x[0], len(x[1])))\n",
        "  idf_calc = pairs.map(lambda x :(x[0], math.log((N / x[1]) , 10)))\n",
        "  return idf_calc"
      ],
      "metadata": {
        "id": "XCq-kyTMqVpy"
      },
      "execution_count": null,
      "outputs": []
    },
    {
      "cell_type": "code",
      "source": [
        "idf_dictionary = calculate_idf(postings_filtered).collectAsMap()"
      ],
      "metadata": {
        "id": "c1irqWUPqbdO"
      },
      "execution_count": null,
      "outputs": []
    },
    {
      "cell_type": "markdown",
      "source": [
        "## Weighted term frequency"
      ],
      "metadata": {
        "id": "yrStVMEA0MJw"
      }
    },
    {
      "cell_type": "code",
      "source": [
        "def dominator_creator(text, id):\n",
        "  tokens = [token.group() for token in RE_WORD.finditer(text.lower())]\n",
        "  filtered_tokens = [tok for tok in tokens if tok not in all_stopwords]\n",
        "  doc_len = len(filtered_tokens)\n",
        "  wij = {} \n",
        "  sum = 0\n",
        "  for token in filtered_tokens:\n",
        "    if token in wij:\n",
        "      wij[token] += 1\n",
        "    else:\n",
        "      wij[token] = 1\n",
        "  \n",
        "  for key in wij:\n",
        "    sum +=math.pow(wij[key] / doc_len,2)\n",
        "  return [(id,sum)]"
      ],
      "metadata": {
        "id": "VSqtU09S0Ls9"
      },
      "execution_count": null,
      "outputs": []
    },
    {
      "cell_type": "code",
      "source": [
        "# dictionary mapping doc id - doc's sum weight of words in it powered by 2\n",
        "dominator_dictionary = doc_text_pairs.flatMap(lambda x: dominator_creator(x[0], x[1])).collectAsMap()"
      ],
      "metadata": {
        "id": "-sTUzm790fWn"
      },
      "execution_count": null,
      "outputs": []
    },
    {
      "cell_type": "markdown",
      "metadata": {
        "id": "5z1wMOiFTyGJ"
      },
      "source": [
        "## Partitioning and writing the index"
      ]
    },
    {
      "cell_type": "code",
      "metadata": {
        "deletable": false,
        "id": "MvZDJk0bu9V9",
        "nbgrader": {
          "cell_type": "code",
          "checksum": "a3aaab30238939a14be6a58056ed3000",
          "grade": false,
          "grade_id": "cell-e85a52ed1c96897a",
          "locked": false,
          "schema_version": 3,
          "solution": true,
          "task": false
        }
      },
      "source": [
        "NUM_BUCKETS = 124\n",
        "def token2bucket_id(token):\n",
        "  return int(_hash(token),16) % NUM_BUCKETS\n",
        "\n",
        "def partition_postings_and_write(postings):\n",
        "  posting_with_bucket = postings.map(lambda x: (token2bucket_id(x[0]), (x[0],x[1])))\n",
        "  b_w_pl = posting_with_bucket.groupByKey().map(lambda x : (x[0], list(x[1])))\n",
        "  posting_locs_dict_rdd = b_w_pl.map(InvertedIndex.write_a_posting_list)\n",
        "  return posting_locs_dict_rdd"
      ],
      "execution_count": null,
      "outputs": []
    },
    {
      "cell_type": "code",
      "metadata": {
        "deletable": false,
        "editable": false,
        "id": "vxCMgAlRDIac",
        "nbgrader": {
          "cell_type": "code",
          "checksum": "a22f7669520fe9435380b4226b14665e",
          "grade": true,
          "grade_id": "cell-708dc83ae80344eb",
          "locked": true,
          "points": 10,
          "schema_version": 3,
          "solution": false,
          "task": false
        }
      },
      "source": [
        "# partitioning for the different buckets\n",
        "posting_locs_list = partition_postings_and_write(postings_filtered).collect()"
      ],
      "execution_count": null,
      "outputs": []
    },
    {
      "cell_type": "code",
      "metadata": {
        "deletable": false,
        "editable": false,
        "id": "C-h5dgtF-TeL",
        "nbgrader": {
          "cell_type": "code",
          "checksum": "99fd63277bc98ff17fdeff467d07b5dd",
          "grade": true,
          "grade_id": "cell-67eccca53a3c689c",
          "locked": true,
          "points": 5,
          "schema_version": 3,
          "solution": false,
          "task": false
        }
      },
      "source": [
        "# merge the posting locations into a single dict\n",
        "super_posting_locs = defaultdict(list)\n",
        "for posting_loc in posting_locs_list:\n",
        "  for k, v in posting_loc.items():\n",
        "    super_posting_locs[k].extend(v)"
      ],
      "execution_count": null,
      "outputs": []
    },
    {
      "cell_type": "markdown",
      "metadata": {
        "id": "xBpxtFW7HeAT"
      },
      "source": [
        "Putting everything together (posting locations, df) and test that the resulting index is correct. "
      ]
    },
    {
      "cell_type": "code",
      "metadata": {
        "id": "VKrew8cUAyTz"
      },
      "source": [
        "# Create inverted index instance\n",
        "inverted = InvertedIndex()\n",
        "\n",
        "# Adding the posting locations dictionary to the inverted index\n",
        "inverted.posting_locs = super_posting_locs\n",
        "\n",
        "# Add the token - df dictionary to the inverted index\n",
        "inverted.df = df_dictionary\n",
        "\n",
        "# Add the idf dictionary to the inverted index\n",
        "inverted.idf = idf_dictionary\n",
        "\n",
        "# Add the doc_id - title dictionary to the inverted index\n",
        "inverted.doc_title_mapping = doc_title_dictionary\n",
        "\n",
        "# Add the doc_id - length dictionary to the inverted index\n",
        "inverted.doc_len_mapping = doc_len_dictionary\n",
        "\n",
        "# Add the dominator dictionary to the inverted index\n",
        "inverted.dominator_mapping = dominator_dictionary\n",
        "\n",
        "# write the global stats out\n",
        "inverted.write_index('.', 'body_index')"
      ],
      "execution_count": null,
      "outputs": []
    },
    {
      "cell_type": "code",
      "metadata": {
        "deletable": false,
        "editable": false,
        "id": "j2_qt2IPkxqz",
        "nbgrader": {
          "cell_type": "code",
          "checksum": "4cb2f6508a6447d5732697ca263194c6",
          "grade": false,
          "grade_id": "cell-2580b6e6179c1c3f",
          "locked": true,
          "schema_version": 3,
          "solution": false,
          "task": false
        }
      },
      "source": [
        "TUPLE_SIZE = 6       \n",
        "TF_MASK = 2 ** 16 - 1 # Masking the 16 low bits of an integer\n",
        "from contextlib import closing\n",
        "\n",
        "def read_posting_list(inverted, w):\n",
        "  with closing(MultiFileReader()) as reader:\n",
        "    locs = inverted.posting_locs[w]\n",
        "    b = reader.read(locs, inverted.df[w] * TUPLE_SIZE)\n",
        "    posting_list = []\n",
        "    for i in range(inverted.df[w]):\n",
        "      doc_id = int.from_bytes(b[i*TUPLE_SIZE:i*TUPLE_SIZE+4], 'big')\n",
        "      tf = int.from_bytes(b[i*TUPLE_SIZE+4:(i+1)*TUPLE_SIZE], 'big')\n",
        "      posting_list.append((doc_id, tf))\n",
        "    return posting_list"
      ],
      "execution_count": null,
      "outputs": []
    },
    {
      "cell_type": "code",
      "metadata": {
        "deletable": false,
        "editable": false,
        "id": "VF6gfVFSIzM6",
        "nbgrader": {
          "cell_type": "code",
          "checksum": "c2a9d41d94ca9a2214a24f6794c23db7",
          "grade": true,
          "grade_id": "cell-7c94f4d8b12a93b5",
          "locked": true,
          "points": 5,
          "schema_version": 3,
          "solution": false,
          "task": false
        }
      },
      "source": [
        "# pl = read_posting_list(inverted, 'python')"
      ],
      "execution_count": null,
      "outputs": []
    },
    {
      "cell_type": "code",
      "source": [
        "# ! zip postings_anchor.zip *.bin"
      ],
      "metadata": {
        "id": "lHLM9Y_ECjEm"
      },
      "execution_count": null,
      "outputs": []
    }
  ]
}